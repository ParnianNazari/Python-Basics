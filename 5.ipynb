{
 "cells": [
  {
   "cell_type": "markdown",
   "id": "7f68fbf1",
   "metadata": {},
   "source": [
    "# 1\n",
    "## Write Python code that checks the user's login password.\n",
    "## Max (12 characters), Min (6 characters), At least one capital and one small letter is requied."
   ]
  },
  {
   "cell_type": "code",
   "execution_count": 1,
   "id": "8649cd5d",
   "metadata": {},
   "outputs": [
    {
     "name": "stdout",
     "output_type": "stream",
     "text": [
      "Enter a password : hello1234\n",
      "not valid\n",
      "Enter a password : Hello1234\n",
      "your password has been registered successfully\n"
     ]
    }
   ],
   "source": [
    "import re\n",
    "\n",
    "while True:\n",
    "    password = input(\"Enter a password : \")\n",
    "    \n",
    "    if len(password) < 6 or len(password) > 12:\n",
    "        print(\"not valid\")\n",
    "    elif not re.search(\"[a-z]\", password):\n",
    "        print(\"not valid\")\n",
    "    elif not re.search(\"[A-Z]\", password):\n",
    "        print(\"not valid\")\n",
    "    elif not re.search(\"[0-9]\", password):\n",
    "        print(\"not valid\")\n",
    "    else:\n",
    "        print(\"your password has been registered successfully\")\n",
    "        break"
   ]
  },
  {
   "cell_type": "markdown",
   "id": "ac33e770",
   "metadata": {},
   "source": [
    "# 2\n",
    "## Just a simple exercise on the subject of dictionaries."
   ]
  },
  {
   "cell_type": "code",
   "execution_count": 2,
   "id": "5c1eb2fd",
   "metadata": {},
   "outputs": [
    {
     "name": "stdout",
     "output_type": "stream",
     "text": [
      "{'name': ['Harry', 'Aurora', 'Jack'], 'age': [32, 20, 28], 'city': ['London', 'Berlin', 'Auckland']}\n",
      "\n",
      "dict_keys(['name', 'age', 'city']) dict_values([['Harry', 'Aurora', 'Jack'], [32, 20, 28], ['London', 'Berlin', 'Auckland']])\n"
     ]
    }
   ],
   "source": [
    "x = {\"name\": [\"Harry\", \"Alice\", \"Jack\"],\n",
    "     \"age\": [32, 25, 28],\n",
    "     \"city\": [\"London\", \"New York\", \"Auckland\"]}\n",
    "s1 = x[\"name\"]\n",
    "s2 = x[\"age\"]\n",
    "s3 = x[\"city\"]\n",
    "n = s1.index(\"Alice\")  # in s1 which index is neda? n=1\n",
    "s1.pop(n)\n",
    "s2.pop(n)\n",
    "s3.pop(n)\n",
    "y = s1.index(\"Harry\")\n",
    "s1.insert(y + 1, \"Aurora\")\n",
    "s2.insert(y + 1, 20)\n",
    "s3.insert(y + 1, \"Berlin\")\n",
    "print(x)\n",
    "print(\"\")\n",
    "print(x.keys(), x.values())"
   ]
  },
  {
   "cell_type": "markdown",
   "id": "de492f65",
   "metadata": {},
   "source": [
    "# 3\n",
    "## Write a lottery game program that can randomly assign prizes to three players."
   ]
  },
  {
   "cell_type": "code",
   "execution_count": 4,
   "id": "3d1f9b58",
   "metadata": {},
   "outputs": [
    {
     "name": "stdout",
     "output_type": "stream",
     "text": [
      "Jason = nothing\n",
      "Hannah = 100 $\n",
      "David = 1000 $\n"
     ]
    }
   ],
   "source": [
    "import random\n",
    "x = [\"Jason\", \"Hannah\", \"David\"]\n",
    "y = [\"100 $\",\"500 $\",\"1000 $\",\"nothing\"]\n",
    "for i in x:\n",
    "    r = random.choice(y)\n",
    "    print(i,\"=\",r)"
   ]
  }
 ],
 "metadata": {
  "kernelspec": {
   "display_name": "Python 3 (ipykernel)",
   "language": "python",
   "name": "python3"
  },
  "language_info": {
   "codemirror_mode": {
    "name": "ipython",
    "version": 3
   },
   "file_extension": ".py",
   "mimetype": "text/x-python",
   "name": "python",
   "nbconvert_exporter": "python",
   "pygments_lexer": "ipython3",
   "version": "3.9.13"
  }
 },
 "nbformat": 4,
 "nbformat_minor": 5
}
