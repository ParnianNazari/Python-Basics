{
 "cells": [
  {
   "cell_type": "markdown",
   "id": "915fd54f",
   "metadata": {},
   "source": [
    "# 1\n",
    "## Write Python code that checks the user's login password.\n",
    "## Max (12 characters), Min (6 characters), At least one capital and one small letter is requied."
   ]
  },
  {
   "cell_type": "code",
   "execution_count": 1,
   "id": "f0a402ca",
   "metadata": {},
   "outputs": [
    {
     "name": "stdout",
     "output_type": "stream",
     "text": [
      "Enter a password : Hello1234\n",
      "your password has been registered successfully\n"
     ]
    }
   ],
   "source": [
    "import re\n",
    "\n",
    "password = input(\"Enter a password : \")\n",
    "x = True\n",
    "while x:\n",
    "    if len(password) < 6 or len(password) > 12:\n",
    "        break\n",
    "    elif not re.search(\"[a-z]\", password):\n",
    "        break\n",
    "    elif not re.search(\"[A-Z]\", password):\n",
    "        break\n",
    "    elif not re.search(\"[0-9]\", password):\n",
    "        break\n",
    "    else:\n",
    "        x = False\n",
    "        print(\"your password has been registered successfully\")\n",
    "        break\n",
    "if x:\n",
    "    print(\"not valid\")"
   ]
  },
  {
   "cell_type": "markdown",
   "id": "0c531fc5",
   "metadata": {},
   "source": [
    "# 2\n",
    "## Just a simple exercise on the subject of dictionaries."
   ]
  },
  {
   "cell_type": "code",
   "execution_count": 2,
   "id": "e9e772e1",
   "metadata": {},
   "outputs": [
    {
     "name": "stdout",
     "output_type": "stream",
     "text": [
      "{'name': ['Harry', 'Aurora', 'Jack'], 'age': [32, 20, 28], 'city': ['London', 'Berlin', 'Auckland']}\n",
      "\n",
      "dict_keys(['name', 'age', 'city']) dict_values([['Harry', 'Aurora', 'Jack'], [32, 20, 28], ['London', 'Berlin', 'Auckland']])\n"
     ]
    }
   ],
   "source": [
    "x = {\"name\": [\"Harry\", \"Alice\", \"Jack\"],\n",
    "     \"age\": [32, 25, 28],\n",
    "     \"city\": [\"London\", \"New York\", \"Auckland\"]}\n",
    "s1 = x[\"name\"]\n",
    "s2 = x[\"age\"]\n",
    "s3 = x[\"city\"]\n",
    "n = s1.index(\"Alice\")  # in s1 which index is neda? n=1\n",
    "s1.pop(n)\n",
    "s2.pop(n)\n",
    "s3.pop(n)\n",
    "y = s1.index(\"Harry\")\n",
    "s1.insert(y + 1, \"Aurora\")\n",
    "s2.insert(y + 1, 20)\n",
    "s3.insert(y + 1, \"Berlin\")\n",
    "print(x)\n",
    "print(\"\")\n",
    "print(x.keys(), x.values())"
   ]
  }
 ],
 "metadata": {
  "kernelspec": {
   "display_name": "Python 3 (ipykernel)",
   "language": "python",
   "name": "python3"
  },
  "language_info": {
   "codemirror_mode": {
    "name": "ipython",
    "version": 3
   },
   "file_extension": ".py",
   "mimetype": "text/x-python",
   "name": "python",
   "nbconvert_exporter": "python",
   "pygments_lexer": "ipython3",
   "version": "3.9.13"
  }
 },
 "nbformat": 4,
 "nbformat_minor": 5
}
