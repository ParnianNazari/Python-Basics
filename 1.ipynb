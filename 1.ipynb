{
 "cells": [
  {
   "cell_type": "markdown",
   "id": "72aaab8c",
   "metadata": {},
   "source": [
    "# 1\n",
    "\n",
    "## Write a Python code that receives three inputs a, b, c and calculates the roots of its equation.\n"
   ]
  },
  {
   "cell_type": "code",
   "execution_count": 1,
   "id": "d01f7807",
   "metadata": {},
   "outputs": [
    {
     "name": "stdout",
     "output_type": "stream",
     "text": [
      "Enter a : 3\n",
      "Enter b : -9\n",
      "Enter c : 6\n",
      "x =  13.5 13.5\n"
     ]
    }
   ],
   "source": [
    "from math import *\n",
    "a = (float(input(\"Enter a : \")))\n",
    "b = (float(input(\"Enter b : \")))\n",
    "c = (float(input(\"Enter c : \")))\n",
    "delta = b ** 2 - 4 * a * c\n",
    "if delta < 0:\n",
    "    print(\"Rishe Haghighi Nadarad\")\n",
    "elif a == 0:\n",
    "    print(\"x = \", -b / 2 * a)\n",
    "elif delta > 0:\n",
    "    x1 = -b + sqrt(delta) / 2 * a\n",
    "    x2 = -b + sqrt(delta) / 2 * a\n",
    "    print(\"x = \", x1, x2)"
   ]
  },
  {
   "cell_type": "markdown",
   "id": "e3041ddc",
   "metadata": {},
   "source": [
    "# 2\n",
    "## Write a Python code that receives a number and prints its multiplication table in the output."
   ]
  },
  {
   "cell_type": "code",
   "execution_count": 3,
   "id": "2b424f53",
   "metadata": {},
   "outputs": [
    {
     "name": "stdout",
     "output_type": "stream",
     "text": [
      "Enter a number : 6\n",
      "0 * 6.0 : 0.0\n",
      "1 * 6.0 : 6.0\n",
      "2 * 6.0 : 12.0\n",
      "3 * 6.0 : 18.0\n",
      "4 * 6.0 : 24.0\n",
      "5 * 6.0 : 30.0\n",
      "6 * 6.0 : 36.0\n",
      "7 * 6.0 : 42.0\n",
      "8 * 6.0 : 48.0\n",
      "9 * 6.0 : 54.0\n"
     ]
    }
   ],
   "source": [
    "x = float(input(\"Enter a number : \"))\n",
    "for i in range(0, 10):\n",
    "    print(i, \"*\", x, \":\", i * x)"
   ]
  },
  {
   "cell_type": "markdown",
   "id": "0df7b633",
   "metadata": {},
   "source": [
    "Meow :)"
   ]
  }
 ],
 "metadata": {
  "kernelspec": {
   "display_name": "Python 3 (ipykernel)",
   "language": "python",
   "name": "python3"
  },
  "language_info": {
   "codemirror_mode": {
    "name": "ipython",
    "version": 3
   },
   "file_extension": ".py",
   "mimetype": "text/x-python",
   "name": "python",
   "nbconvert_exporter": "python",
   "pygments_lexer": "ipython3",
   "version": "3.9.13"
  }
 },
 "nbformat": 4,
 "nbformat_minor": 5
}
