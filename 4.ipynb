{
 "cells": [
  {
   "cell_type": "markdown",
   "id": "5cc788a3",
   "metadata": {},
   "source": [
    "# 1\n",
    "## Write Python code that filters the words idiot and stupid."
   ]
  },
  {
   "cell_type": "code",
   "execution_count": 1,
   "id": "e6964e38",
   "metadata": {},
   "outputs": [
    {
     "name": "stdout",
     "output_type": "stream",
     "text": [
      "Enter anything you want : you are an idiot\n",
      "you are an *\n",
      "Do you want to see the original text? (yes/no) : yes\n",
      "you are an idiot\n"
     ]
    }
   ],
   "source": [
    "x = input(\"Enter anything you want : \")\n",
    "original = x\n",
    "x = x.lower()\n",
    "filter_words = (\"idiot\", \"stupid\")\n",
    "if x in filter_words:\n",
    "    print(\"Rude !\")\n",
    "else:\n",
    "    for word in filter_words:\n",
    "        x = x.replace(word, \"*\")\n",
    "print(x)\n",
    "y = input(\"Do you want to see the original text? (yes/no) : \")\n",
    "y = y.lower()\n",
    "if y == \"yes\":\n",
    "    print(original)\n",
    "elif y == \"no\":\n",
    "    print(\"Okay\")"
   ]
  },
  {
   "cell_type": "markdown",
   "id": "fa7e5016",
   "metadata": {},
   "source": [
    "# 2\n",
    "## Write Python code that asks the user to solve an equation and lets the user try three times."
   ]
  },
  {
   "cell_type": "code",
   "execution_count": 3,
   "id": "230732d5",
   "metadata": {},
   "outputs": [
    {
     "name": "stdout",
     "output_type": "stream",
     "text": [
      "What is the answer of 6x = 30 ? \n",
      "note : you can only try 3 times !\n",
      "Answer : 8\n",
      "try again\n",
      "Answer : 5\n",
      "you won\n"
     ]
    }
   ],
   "source": [
    "print(\"What is the answer of 6x = 30 ? \\nnote : you can only try 3 times !\")\n",
    "terminate = 0\n",
    "for i in range(3):\n",
    "    answer = input(\"Answer : \")\n",
    "    if answer == \"5\":\n",
    "        break\n",
    "    else:\n",
    "        if i < 3 - 1:\n",
    "            print(\"try again\")\n",
    "    terminate = terminate + 1\n",
    "\n",
    "if terminate == 3:\n",
    "    print(\"you lost\")\n",
    "else:\n",
    "    print(\"you won\")\n"
   ]
  },
  {
   "cell_type": "markdown",
   "id": "1aee2cff",
   "metadata": {},
   "source": [
    "# 3\n",
    "## An example of modifying tuples."
   ]
  },
  {
   "cell_type": "code",
   "execution_count": 4,
   "id": "50a703ba",
   "metadata": {},
   "outputs": [
    {
     "name": "stdout",
     "output_type": "stream",
     "text": [
      "(0, 2, 5, 'hello', 'bye', 7)\n"
     ]
    }
   ],
   "source": [
    "x = (0, 2, 5, 7)\n",
    "x = list(x)\n",
    "x.insert(2 + 1, \"hello\")\n",
    "y = x.index(\"hello\")\n",
    "x.insert(y+1,\"bye\")\n",
    "x = tuple(x)\n",
    "print(x)"
   ]
  },
  {
   "cell_type": "markdown",
   "id": "60e8579a",
   "metadata": {},
   "source": [
    "# 4\n",
    "## An example of a simple encoding of a text."
   ]
  },
  {
   "cell_type": "code",
   "execution_count": 5,
   "id": "0839ccef",
   "metadata": {},
   "outputs": [
    {
     "name": "stdout",
     "output_type": "stream",
     "text": [
      "Enter the text you want to code : i want to code my text\n",
      "Code :  txet ym edoc ot tnaw i\n"
     ]
    }
   ],
   "source": [
    "code = input(\"Enter the text you want to code : \")\n",
    "print(\"Code : \",code[::-1])"
   ]
  }
 ],
 "metadata": {
  "kernelspec": {
   "display_name": "Python 3 (ipykernel)",
   "language": "python",
   "name": "python3"
  },
  "language_info": {
   "codemirror_mode": {
    "name": "ipython",
    "version": 3
   },
   "file_extension": ".py",
   "mimetype": "text/x-python",
   "name": "python",
   "nbconvert_exporter": "python",
   "pygments_lexer": "ipython3",
   "version": "3.9.13"
  }
 },
 "nbformat": 4,
 "nbformat_minor": 5
}
