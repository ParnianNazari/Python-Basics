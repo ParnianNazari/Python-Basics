{
 "cells": [
  {
   "cell_type": "markdown",
   "id": "1a88b0e8",
   "metadata": {},
   "source": [
    "## Series of exercises from the statistics module in Python."
   ]
  },
  {
   "cell_type": "markdown",
   "id": "1002b354",
   "metadata": {},
   "source": [
    "# 1"
   ]
  },
  {
   "cell_type": "code",
   "execution_count": 2,
   "id": "65b81ba1",
   "metadata": {},
   "outputs": [
    {
     "name": "stdout",
     "output_type": "stream",
     "text": [
      "mean =  2.5\n",
      "geometric mean =  2.2133638394006434\n",
      "harmonic mean =  1.92\n"
     ]
    }
   ],
   "source": [
    "from statistics import *\n",
    "\n",
    "data = [1, 2, 3, 4]\n",
    "print(\"mean = \", mean(data))\n",
    "print(\"geometric mean = \", geometric_mean(data))\n",
    "print(\"harmonic mean = \", harmonic_mean(data))"
   ]
  },
  {
   "cell_type": "markdown",
   "id": "6e1a1034",
   "metadata": {},
   "source": [
    "# 2"
   ]
  },
  {
   "cell_type": "code",
   "execution_count": 3,
   "id": "1216854e",
   "metadata": {},
   "outputs": [
    {
     "name": "stdout",
     "output_type": "stream",
     "text": [
      "median =  2.0\n",
      "low =  0\n",
      "high =  4\n"
     ]
    }
   ],
   "source": [
    "from statistics import *\n",
    "\n",
    "data = [-5, 12, 7, -2, 4, 0]\n",
    "print(\"median = \", median(data))\n",
    "print(\"low = \", median_low(data))\n",
    "print(\"high = \", median_high(data))"
   ]
  },
  {
   "cell_type": "markdown",
   "id": "5dba776e",
   "metadata": {},
   "source": [
    "# 3"
   ]
  },
  {
   "cell_type": "code",
   "execution_count": 4,
   "id": "e524a2d4",
   "metadata": {},
   "outputs": [
    {
     "name": "stdout",
     "output_type": "stream",
     "text": [
      "Enter The number of numbers you want to enter = 4\n",
      "Enter the numbers = -5\n",
      "Enter the numbers = 0\n",
      "Enter the numbers = 9\n",
      "Enter the numbers = 3\n",
      "\n",
      "mean =  1.75\n",
      "median =  1.5\n",
      "mode =  -5.0\n",
      "variance =  34.25\n",
      "standard deviation =  5.852349955359813\n"
     ]
    }
   ],
   "source": [
    "from statistics import *\n",
    "\n",
    "data = []\n",
    "numbers = int(input(\"Enter The number of numbers you want to enter = \"))\n",
    "for i in range(numbers):\n",
    "    number = float(input(\"Enter the numbers = \"))\n",
    "    data.append(number)\n",
    "print(\"\")\n",
    "print(\"mean = \", mean(data))\n",
    "print(\"median = \", median(data))\n",
    "print(\"mode = \", mode(data))\n",
    "print(\"variance = \", variance(data))\n",
    "print(\"standard deviation = \", stdev(data))"
   ]
  }
 ],
 "metadata": {
  "kernelspec": {
   "display_name": "Python 3 (ipykernel)",
   "language": "python",
   "name": "python3"
  },
  "language_info": {
   "codemirror_mode": {
    "name": "ipython",
    "version": 3
   },
   "file_extension": ".py",
   "mimetype": "text/x-python",
   "name": "python",
   "nbconvert_exporter": "python",
   "pygments_lexer": "ipython3",
   "version": "3.9.13"
  }
 },
 "nbformat": 4,
 "nbformat_minor": 5
}
