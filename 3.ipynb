{
 "cells": [
  {
   "cell_type": "markdown",
   "id": "b1bbc8c9",
   "metadata": {},
   "source": [
    "# 1\n",
    "## Write a Python code that gets the working hours of an employee and calculates his salary.\n",
    "# Note :\n",
    "## - The salary for each working hour is 100000 toman & the overtime salary is half of its normal.\n",
    "## - Working hours over 160 hours are considered overtime and the maximum overtime hours is 40 hours per month."
   ]
  },
  {
   "cell_type": "code",
   "execution_count": 1,
   "id": "343cfddd",
   "metadata": {},
   "outputs": [
    {
     "name": "stdout",
     "output_type": "stream",
     "text": [
      "Enter your hours of working : 200\n",
      "Your Salary :  16002000 Toman\n"
     ]
    }
   ],
   "source": [
    "hour = int(input(\"Enter your hours of working : \"))\n",
    "if hour > 160:\n",
    "    normal = 160\n",
    "    overtime = hour - 160\n",
    "    if overtime > 40:\n",
    "        overtime = 40\n",
    "elif hour <= 160:\n",
    "    normal = hour\n",
    "    overtime = 0\n",
    "normal_salary = normal * 100000\n",
    "overtime_salary = overtime * 50\n",
    "print(\"Your Salary : \",normal_salary+overtime_salary,\"Toman\")"
   ]
  },
  {
   "cell_type": "markdown",
   "id": "435f0757",
   "metadata": {},
   "source": [
    "# 2\n",
    "## Write a Python code that receives the employee's salary and prints the amount of taxes and insurance premiums and the employee's net income in the output.\n",
    "# Note :\n",
    "## Insurance is 7% and tax is 10% of salary."
   ]
  },
  {
   "cell_type": "code",
   "execution_count": 2,
   "id": "1390a438",
   "metadata": {},
   "outputs": [
    {
     "name": "stdout",
     "output_type": "stream",
     "text": [
      "Enter your salary : 600000\n",
      "insurance :  42000.00000000001\n",
      "tax : 60000.0\n",
      "income :  498000.0\n"
     ]
    }
   ],
   "source": [
    "def f(salary):\n",
    "    insurance = 0.07 * salary\n",
    "    tax = 0.1 * salary\n",
    "    income = salary - (insurance + tax)\n",
    "    return insurance, tax, income\n",
    "\n",
    "\n",
    "salary = float(input(\"Enter your salary : \"))\n",
    "x, y, z = f(salary)\n",
    "print(\"insurance : \", x)\n",
    "print(\"tax :\", y)\n",
    "print(\"income : \", z)"
   ]
  }
 ],
 "metadata": {
  "kernelspec": {
   "display_name": "Python 3 (ipykernel)",
   "language": "python",
   "name": "python3"
  },
  "language_info": {
   "codemirror_mode": {
    "name": "ipython",
    "version": 3
   },
   "file_extension": ".py",
   "mimetype": "text/x-python",
   "name": "python",
   "nbconvert_exporter": "python",
   "pygments_lexer": "ipython3",
   "version": "3.9.13"
  }
 },
 "nbformat": 4,
 "nbformat_minor": 5
}
