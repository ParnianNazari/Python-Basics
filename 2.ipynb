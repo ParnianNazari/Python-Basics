{
 "cells": [
  {
   "cell_type": "markdown",
   "id": "9621ea8d",
   "metadata": {},
   "source": [
    "# 1\n",
    "## Write a Python code that receives the value of a and b from the user and adds the numbers from a to b.\n"
   ]
  },
  {
   "cell_type": "code",
   "execution_count": 1,
   "id": "db65bb19",
   "metadata": {},
   "outputs": [
    {
     "name": "stdout",
     "output_type": "stream",
     "text": [
      "Enter a = 3\n",
      "Enter b = 6\n",
      "sum =  18\n"
     ]
    }
   ],
   "source": [
    "a = int(input(\"Enter a = \"))\n",
    "b = int(input(\"Enter b = \"))\n",
    "s = 0\n",
    "for i in range(a, b + 1):\n",
    "    s = s + i\n",
    "print(\"sum = \", s)"
   ]
  },
  {
   "cell_type": "markdown",
   "id": "346cb63e",
   "metadata": {},
   "source": [
    "# 2\n",
    "## Write a Python code that receives the value of a and b from the user and displays the numbers divisible by 2 between them in the output."
   ]
  },
  {
   "cell_type": "code",
   "execution_count": 3,
   "id": "aca2ff05",
   "metadata": {},
   "outputs": [
    {
     "name": "stdout",
     "output_type": "stream",
     "text": [
      "Enter a = 1\n",
      "Enter b = 10\n",
      "2\n",
      "4\n",
      "6\n",
      "8\n"
     ]
    }
   ],
   "source": [
    "a = int(input(\"Enter a = \"))\n",
    "b = int(input(\"Enter b = \"))\n",
    "n = 0\n",
    "for i in range(a, b):\n",
    "    if i % 2 == 0:\n",
    "        n = n + 1\n",
    "        print(i)"
   ]
  },
  {
   "cell_type": "markdown",
   "id": "1c5f29e9",
   "metadata": {},
   "source": [
    "# 3\n",
    "## Write a Python code that receives the value of a and b from the user and prints their average in the output."
   ]
  },
  {
   "cell_type": "code",
   "execution_count": 4,
   "id": "8cc6c2c1",
   "metadata": {},
   "outputs": [
    {
     "name": "stdout",
     "output_type": "stream",
     "text": [
      "Enter a = 1\n",
      "Enter b = 5\n",
      "average =  3.0\n"
     ]
    }
   ],
   "source": [
    "a = int(input(\"Enter a = \"))\n",
    "b = int(input(\"Enter b = \"))\n",
    "s = 0\n",
    "n = 0\n",
    "for i in range(a, b + 1):\n",
    "    s = s + i\n",
    "    n = n + 1\n",
    "av = s / n\n",
    "print(\"average = \", av)"
   ]
  }
 ],
 "metadata": {
  "kernelspec": {
   "display_name": "Python 3 (ipykernel)",
   "language": "python",
   "name": "python3"
  },
  "language_info": {
   "codemirror_mode": {
    "name": "ipython",
    "version": 3
   },
   "file_extension": ".py",
   "mimetype": "text/x-python",
   "name": "python",
   "nbconvert_exporter": "python",
   "pygments_lexer": "ipython3",
   "version": "3.9.13"
  }
 },
 "nbformat": 4,
 "nbformat_minor": 5
}
